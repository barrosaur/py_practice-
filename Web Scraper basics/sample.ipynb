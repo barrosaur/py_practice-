{
 "cells": [
  {
   "cell_type": "markdown",
   "id": "5272c615",
   "metadata": {},
   "source": [
    "### Simple Web Scraper with Beautiful Soup\n",
    "This is via the freecodecamp tutorial. This is for custom html i made in index.html"
   ]
  },
  {
   "cell_type": "code",
   "execution_count": null,
   "id": "1b7f9a9a",
   "metadata": {},
   "outputs": [
    {
     "name": "stdout",
     "output_type": "stream",
     "text": [
      "Python for beginners\n",
      "Python for intermediate\n",
      "Python for advanced\n"
     ]
    }
   ],
   "source": [
    "# For the courses\n",
    "from bs4 import BeautifulSoup\n",
    "with open('index.html', 'r') as html_file:\n",
    "  content = html_file.read()\n",
    "\n",
    "  soup = BeautifulSoup(content, 'html.parser')\n",
    "  courses = soup.find_all('h3')\n",
    "\n",
    "  for course in courses:\n",
    "    print(course.text)"
   ]
  },
  {
   "cell_type": "code",
   "execution_count": null,
   "id": "327eba01",
   "metadata": {},
   "outputs": [
    {
     "name": "stdout",
     "output_type": "stream",
     "text": [
      "$20\n",
      "$40\n",
      "$60\n"
     ]
    }
   ],
   "source": [
    "from bs4 import BeautifulSoup\n",
    "with open('index.html', 'r') as html_file:\n",
    "  content = html_file.read()\n",
    "\n",
    "  soup = BeautifulSoup(content, 'html.parser')\n",
    "  prices = soup.find_all('button')\n",
    "\n",
    "  for price in prices:\n",
    "    print(price.text.split()[-1]) # gets the prices"
   ]
  },
  {
   "cell_type": "markdown",
   "id": "726ca53e",
   "metadata": {},
   "source": [
    "#### This is for real web scraping"
   ]
  },
  {
   "cell_type": "code",
   "execution_count": 60,
   "id": "fb5475fc",
   "metadata": {},
   "outputs": [
    {
     "name": "stdout",
     "output_type": "stream",
     "text": [
      " \t\t\t\t\t\tAsus ROG Strix... \t\t\t\t\t - 1769\n"
     ]
    }
   ],
   "source": [
    "import requests\n",
    "from bs4 import BeautifulSoup\n",
    "\n",
    "url = 'https://webscraper.io/test-sites/e-commerce/allinone'\n",
    "response = requests.get(url).text\n",
    "\n",
    "soup = BeautifulSoup(response, 'html.parser')\n",
    "items = soup.find_all('div', class_='product-wrapper card-body')\n",
    "\n",
    "for item in items:\n",
    "  product = item.find('a', class_='title').text.replace('\\n', ' ')\n",
    "  price = item.find('span', itemprop='price').text.replace('$', '')\n",
    "\n",
    "  # price conversion to float\n",
    "  price_float = float(price)\n",
    "  \n",
    "  # filtering\n",
    "  if price_float > 500:\n",
    "    print(f\"{product} - {price}\")\n",
    "  "
   ]
  }
 ],
 "metadata": {
  "language_info": {
   "name": "python"
  }
 },
 "nbformat": 4,
 "nbformat_minor": 5
}
